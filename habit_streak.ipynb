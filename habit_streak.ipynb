{
 "cells": [
  {
   "cell_type": "code",
   "execution_count": 2,
   "id": "e01f3f66-7aa2-468b-9e63-ed26e1da0721",
   "metadata": {},
   "outputs": [
    {
     "name": "stdout",
     "output_type": "stream",
     "text": [
      "\n",
      "Longest Streaks:\n",
      "Exercise: 1 days\n"
     ]
    }
   ],
   "source": [
    "# src/habit_streak.py\n",
    "import csv\n",
    "\n",
    "class HabitStreakAnalyzer:\n",
    "    def __init__(self):\n",
    "        self.habit_data = {}\n",
    "\n",
    "    def load_data_from_csv(self, csv_filename):\n",
    "        with open(csv_filename, 'r') as csv_file:\n",
    "            csv_reader = csv.DictReader(csv_file)\n",
    "            for row in csv_reader:\n",
    "                habit = row['Habit']\n",
    "                done = row['Done'] == 'True'\n",
    "                if habit not in self.habit_data:\n",
    "                    self.habit_data[habit] = []\n",
    "                self.habit_data[habit].append(done)\n",
    "\n",
    "    def calculate_longest_streaks(self):\n",
    "        longest_streaks = {}\n",
    "        for habit, data in self.habit_data.items():\n",
    "            max_streak = 0\n",
    "            current_streak = 0\n",
    "            for done in data:\n",
    "                if done:\n",
    "                    current_streak += 1\n",
    "                    max_streak = max(max_streak, current_streak)\n",
    "                else:\n",
    "                    current_streak = 0\n",
    "            longest_streaks[habit] = max_streak\n",
    "        return longest_streaks\n",
    "\n",
    "### Main application\n",
    "\n",
    "if __name__ == \"__main__\":\n",
    "    analyzer = HabitStreakAnalyzer()\n",
    "    analyzer.load_data_from_csv('data/habit_data.csv')\n",
    "    longest_streaks = analyzer.calculate_longest_streaks()\n",
    "    print(\"\\nLongest Streaks:\")\n",
    "    for habit, streak in longest_streaks.items():\n",
    "        print(f\"{habit}: {streak} days\")\n"
   ]
  },
  {
   "cell_type": "code",
   "execution_count": null,
   "id": "b71130d6-2750-4d5a-9319-e84ca260f195",
   "metadata": {},
   "outputs": [],
   "source": []
  }
 ],
 "metadata": {
  "kernelspec": {
   "display_name": "Python 3",
   "language": "python",
   "name": "python3"
  },
  "language_info": {
   "codemirror_mode": {
    "name": "ipython",
    "version": 3
   },
   "file_extension": ".py",
   "mimetype": "text/x-python",
   "name": "python",
   "nbconvert_exporter": "python",
   "pygments_lexer": "ipython3",
   "version": "3.8.8"
  }
 },
 "nbformat": 4,
 "nbformat_minor": 5
}
