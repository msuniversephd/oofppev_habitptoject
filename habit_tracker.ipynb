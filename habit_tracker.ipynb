{
 "cells": [
  {
   "cell_type": "code",
   "execution_count": 16,
   "id": "ccf2fce3-da17-4730-91d0-2d0b16ce6e1e",
   "metadata": {},
   "outputs": [],
   "source": [
    "import os\n",
    "\n",
    "directory = 'data'\n",
    "if not os.path.exists(directory):\n",
    "    os.makedirs(directory)\n"
   ]
  },
  {
   "cell_type": "code",
   "execution_count": 17,
   "id": "a31b25d1-6061-43dd-bdf6-864ca3ffeaee",
   "metadata": {},
   "outputs": [],
   "source": [
    "with open('data/habit_data.csv', 'w') as file:\n",
    "    file.write('Habit,Date,Done\\n')\n"
   ]
  },
  {
   "cell_type": "code",
   "execution_count": 18,
   "id": "b9a1cb73-58f4-4367-b4a3-6370282dcde8",
   "metadata": {},
   "outputs": [
    {
     "name": "stdin",
     "output_type": "stream",
     "text": [
      "Enter the habit you want to track:  Exercise\n",
      "Enter the date (YYYY-MM-DD):  2023-03-14\n",
      "Did you do 'Exercise' on 2023-03-14? (Y/N):  y\n",
      "Do you want to track another habit? (Y/N):  y\n",
      "Enter the habit you want to track:  Reading\n",
      "Enter the date (YYYY-MM-DD):  2023-12-11\n",
      "Did you do 'Reading' on 2023-12-11? (Y/N):  y\n",
      "Do you want to track another habit? (Y/N):  n\n"
     ]
    },
    {
     "name": "stdout",
     "output_type": "stream",
     "text": [
      "Data saved successfully.\n"
     ]
    }
   ],
   "source": [
    "# src/habit_tracker.py\n",
    "from datetime import datetime\n",
    "import csv\n",
    "\n",
    "class HabitTracker:\n",
    "    def __init__(self, habits):\n",
    "        self.habits = habits\n",
    "        self.data = []\n",
    "\n",
    "    def track_habit(self, habit, date, done):\n",
    "        self.data.append((habit, date, done))\n",
    "\n",
    "    def save_data_to_csv(self, csv_filename):\n",
    "        with open(csv_filename, 'w', newline='') as csv_file:\n",
    "            csv_writer = csv.writer(csv_file)\n",
    "            csv_writer.writerow(['Habit', 'Date', 'Done'])\n",
    "            csv_writer.writerows(self.data)\n",
    "        print(\"Data saved successfully.\")\n",
    "\n",
    "### Main application\n",
    "\n",
    "if __name__ == \"__main__\":\n",
    "    predefined_habits = [\"Exercise\", \"Reading\", \"Meditation\", \"Healthy Eating\", \"Journaling\"]\n",
    "\n",
    "    tracker = HabitTracker(predefined_habits)\n",
    "\n",
    "    while True:\n",
    "        habit = input(\"Enter the habit you want to track: \")\n",
    "        if habit not in predefined_habits:\n",
    "            print(\"Invalid habit. Please choose from predefined habits.\")\n",
    "            continue\n",
    "\n",
    "        date = input(\"Enter the date (YYYY-MM-DD): \")\n",
    "        done = input(f\"Did you do '{habit}' on {date}? (Y/N): \").strip().lower() == \"y\"\n",
    "\n",
    "        tracker.track_habit(habit, date, done)\n",
    "\n",
    "        another = input(\"Do you want to track another habit? (Y/N): \").strip().lower()\n",
    "        if another != \"y\":\n",
    "            break\n",
    "\n",
    "    tracker.save_data_to_csv('data/habit_data.csv')\n"
   ]
  },
  {
   "cell_type": "code",
   "execution_count": 19,
   "id": "c17238e6-7a15-4c18-afa3-afb12a7ca8de",
   "metadata": {},
   "outputs": [
    {
     "name": "stdout",
     "output_type": "stream",
     "text": [
      "\n",
      "Longest Streaks:\n",
      "Exercise: 1 days\n",
      "Reading: 1 days\n"
     ]
    }
   ],
   "source": [
    "%run habit_streak.ipynb\n"
   ]
  },
  {
   "cell_type": "code",
   "execution_count": null,
   "id": "2f82e004-dad4-49c3-a33d-35164172c4f4",
   "metadata": {},
   "outputs": [],
   "source": []
  }
 ],
 "metadata": {
  "kernelspec": {
   "display_name": "Python 3",
   "language": "python",
   "name": "python3"
  },
  "language_info": {
   "codemirror_mode": {
    "name": "ipython",
    "version": 3
   },
   "file_extension": ".py",
   "mimetype": "text/x-python",
   "name": "python",
   "nbconvert_exporter": "python",
   "pygments_lexer": "ipython3",
   "version": "3.8.8"
  }
 },
 "nbformat": 4,
 "nbformat_minor": 5
}
