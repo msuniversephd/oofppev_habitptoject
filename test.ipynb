{
 "cells": [
  {
   "cell_type": "code",
   "execution_count": 1,
   "id": "e95ceac6-755e-4062-b6b0-2070add71b63",
   "metadata": {},
   "outputs": [],
   "source": [
    "import unittest\n",
    "from habit_tracking import HabitTracker  # Import your HabitTracker class from habit_tracking.py\n",
    "\n",
    "class TestHabitTracker(unittest.TestCase):\n",
    "    def test_habit_tracking(self):\n",
    "        # Initializing HabitTracker and simulating habit tracking\n",
    "        tracker = HabitTracker([\"Exercise\", \"Reading\"])  # Assuming only two habits for simplicity\n",
    "\n",
    "        # Simulating habit tracking data for \"Exercise\" and \"Reading\"\n",
    "        tracker.track_habit(\"Exercise\", \"2023-11-15\", True)\n",
    "        tracker.track_habit(\"Reading\", \"2023-11-15\", False)\n",
    "\n",
    "        # Validate the tracked habits\n",
    "        # Check the number of tracked entries for each habit\n",
    "        self.assertEqual(len(tracker.habit_data[\"Exercise\"]), 1)  # Check if \"Exercise\" has one tracked entry\n",
    "        self.assertEqual(len(tracker.habit_data[\"Reading\"]), 1)   # Check if \"Reading\" has one tracked entry\n",
    "\n",
    "        # Validate the content of the tracked entries\n",
    "        # Check the content of the first entry for \"Exercise\" and \"Reading\"\n",
    "        self.assertEqual(tracker.habit_data[\"Exercise\"][0], (\"2023-11-15\", 1))  # Ensure the first entry for \"Exercise\" is ('2023-11-15', 1)\n",
    "        self.assertEqual(tracker.habit_data[\"Reading\"][0], (\"2023-11-15\", 0))   # Ensure the first entry for \"Reading\" is ('2023-11-15', 0)\n",
    "\n",
    "# Create an instance of the test case and run the test\n",
    "test_habit_tracker = TestHabitTracker()\n",
    "test_habit_tracker.test_habit_tracking()\n"
   ]
  },
  {
   "cell_type": "code",
   "execution_count": null,
   "id": "ebfb81f9-4ab3-4cb3-abd5-5f8a2c5b6b07",
   "metadata": {},
   "outputs": [],
   "source": []
  }
 ],
 "metadata": {
  "kernelspec": {
   "display_name": "Python 3",
   "language": "python",
   "name": "python3"
  },
  "language_info": {
   "codemirror_mode": {
    "name": "ipython",
    "version": 3
   },
   "file_extension": ".py",
   "mimetype": "text/x-python",
   "name": "python",
   "nbconvert_exporter": "python",
   "pygments_lexer": "ipython3",
   "version": "3.8.8"
  }
 },
 "nbformat": 4,
 "nbformat_minor": 5
}
